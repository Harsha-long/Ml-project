{
 "cells": [
  {
   "cell_type": "code",
   "execution_count": 1,
   "id": "f8d119e7",
   "metadata": {},
   "outputs": [],
   "source": [
    "import IPython\n",
    "import pandas as pd\n",
    "import numpy as np\n",
    "import matplotlib .pyplot as plt\n",
    "import seaborn as sns\n",
    "from IPython import get_ipython\n",
    "import warnings\n",
    "warnings.filterwarnings(\"ignore\")\n",
    "\n"
   ]
  },
  {
   "cell_type": "code",
   "execution_count": 2,
   "id": "d3d27e81",
   "metadata": {},
   "outputs": [],
   "source": [
    "data=pd.read_csv(\"cyber.csv\")"
   ]
  },
  {
   "cell_type": "code",
   "execution_count": 10,
   "id": "147f888b",
   "metadata": {},
   "outputs": [
    {
     "data": {
      "text/html": [
       "<div>\n",
       "<style scoped>\n",
       "    .dataframe tbody tr th:only-of-type {\n",
       "        vertical-align: middle;\n",
       "    }\n",
       "\n",
       "    .dataframe tbody tr th {\n",
       "        vertical-align: top;\n",
       "    }\n",
       "\n",
       "    .dataframe thead th {\n",
       "        text-align: right;\n",
       "    }\n",
       "</style>\n",
       "<table border=\"1\" class=\"dataframe\">\n",
       "  <thead>\n",
       "    <tr style=\"text-align: right;\">\n",
       "      <th></th>\n",
       "      <th>Source Port</th>\n",
       "      <th>Destination Port</th>\n",
       "      <th>Protocol</th>\n",
       "      <th>Packet Length</th>\n",
       "      <th>Packet Type</th>\n",
       "      <th>Traffic Type</th>\n",
       "      <th>Attack Type</th>\n",
       "      <th>Action Taken</th>\n",
       "      <th>Severity Level</th>\n",
       "      <th>Device Information</th>\n",
       "      <th>Log Source</th>\n",
       "    </tr>\n",
       "  </thead>\n",
       "  <tbody>\n",
       "    <tr>\n",
       "      <th>0</th>\n",
       "      <td>31225</td>\n",
       "      <td>17616</td>\n",
       "      <td>ICMP</td>\n",
       "      <td>503</td>\n",
       "      <td>Data</td>\n",
       "      <td>HTTP</td>\n",
       "      <td>Malware</td>\n",
       "      <td>Logged</td>\n",
       "      <td>Low</td>\n",
       "      <td>Mozilla/5.0 (compatible; MSIE 8.0; Windows NT ...</td>\n",
       "      <td>Server</td>\n",
       "    </tr>\n",
       "    <tr>\n",
       "      <th>1</th>\n",
       "      <td>17245</td>\n",
       "      <td>48166</td>\n",
       "      <td>ICMP</td>\n",
       "      <td>1174</td>\n",
       "      <td>Data</td>\n",
       "      <td>HTTP</td>\n",
       "      <td>Malware</td>\n",
       "      <td>Blocked</td>\n",
       "      <td>Low</td>\n",
       "      <td>Mozilla/5.0 (compatible; MSIE 8.0; Windows NT ...</td>\n",
       "      <td>Firewall</td>\n",
       "    </tr>\n",
       "    <tr>\n",
       "      <th>2</th>\n",
       "      <td>16811</td>\n",
       "      <td>53600</td>\n",
       "      <td>UDP</td>\n",
       "      <td>306</td>\n",
       "      <td>Control</td>\n",
       "      <td>HTTP</td>\n",
       "      <td>DDoS</td>\n",
       "      <td>Ignored</td>\n",
       "      <td>Low</td>\n",
       "      <td>Mozilla/5.0 (compatible; MSIE 9.0; Windows NT ...</td>\n",
       "      <td>Firewall</td>\n",
       "    </tr>\n",
       "    <tr>\n",
       "      <th>3</th>\n",
       "      <td>20018</td>\n",
       "      <td>32534</td>\n",
       "      <td>UDP</td>\n",
       "      <td>385</td>\n",
       "      <td>Data</td>\n",
       "      <td>HTTP</td>\n",
       "      <td>Malware</td>\n",
       "      <td>Blocked</td>\n",
       "      <td>Medium</td>\n",
       "      <td>Mozilla/5.0 (Macintosh; PPC Mac OS X 10_11_5; ...</td>\n",
       "      <td>Firewall</td>\n",
       "    </tr>\n",
       "    <tr>\n",
       "      <th>4</th>\n",
       "      <td>6131</td>\n",
       "      <td>26646</td>\n",
       "      <td>TCP</td>\n",
       "      <td>1462</td>\n",
       "      <td>Data</td>\n",
       "      <td>DNS</td>\n",
       "      <td>DDoS</td>\n",
       "      <td>Blocked</td>\n",
       "      <td>Low</td>\n",
       "      <td>Mozilla/5.0 (compatible; MSIE 5.0; Windows NT ...</td>\n",
       "      <td>Firewall</td>\n",
       "    </tr>\n",
       "  </tbody>\n",
       "</table>\n",
       "</div>"
      ],
      "text/plain": [
       "   Source Port  Destination Port Protocol  Packet Length Packet Type  \\\n",
       "0        31225             17616     ICMP            503        Data   \n",
       "1        17245             48166     ICMP           1174        Data   \n",
       "2        16811             53600      UDP            306     Control   \n",
       "3        20018             32534      UDP            385        Data   \n",
       "4         6131             26646      TCP           1462        Data   \n",
       "\n",
       "  Traffic Type Attack Type Action Taken Severity Level  \\\n",
       "0         HTTP     Malware       Logged            Low   \n",
       "1         HTTP     Malware      Blocked            Low   \n",
       "2         HTTP        DDoS      Ignored            Low   \n",
       "3         HTTP     Malware      Blocked         Medium   \n",
       "4          DNS        DDoS      Blocked            Low   \n",
       "\n",
       "                                  Device Information Log Source  \n",
       "0  Mozilla/5.0 (compatible; MSIE 8.0; Windows NT ...     Server  \n",
       "1  Mozilla/5.0 (compatible; MSIE 8.0; Windows NT ...   Firewall  \n",
       "2  Mozilla/5.0 (compatible; MSIE 9.0; Windows NT ...   Firewall  \n",
       "3  Mozilla/5.0 (Macintosh; PPC Mac OS X 10_11_5; ...   Firewall  \n",
       "4  Mozilla/5.0 (compatible; MSIE 5.0; Windows NT ...   Firewall  "
      ]
     },
     "execution_count": 10,
     "metadata": {},
     "output_type": "execute_result"
    }
   ],
   "source": [
    "data.head(5)"
   ]
  },
  {
   "cell_type": "code",
   "execution_count": 11,
   "id": "d79e17e0",
   "metadata": {},
   "outputs": [
    {
     "data": {
      "text/html": [
       "<div>\n",
       "<style scoped>\n",
       "    .dataframe tbody tr th:only-of-type {\n",
       "        vertical-align: middle;\n",
       "    }\n",
       "\n",
       "    .dataframe tbody tr th {\n",
       "        vertical-align: top;\n",
       "    }\n",
       "\n",
       "    .dataframe thead th {\n",
       "        text-align: right;\n",
       "    }\n",
       "</style>\n",
       "<table border=\"1\" class=\"dataframe\">\n",
       "  <thead>\n",
       "    <tr style=\"text-align: right;\">\n",
       "      <th></th>\n",
       "      <th>Source Port</th>\n",
       "      <th>Destination Port</th>\n",
       "      <th>Protocol</th>\n",
       "      <th>Packet Length</th>\n",
       "      <th>Packet Type</th>\n",
       "      <th>Traffic Type</th>\n",
       "      <th>Attack Type</th>\n",
       "      <th>Action Taken</th>\n",
       "      <th>Severity Level</th>\n",
       "      <th>Device Information</th>\n",
       "      <th>Log Source</th>\n",
       "    </tr>\n",
       "  </thead>\n",
       "  <tbody>\n",
       "    <tr>\n",
       "      <th>39995</th>\n",
       "      <td>31005</td>\n",
       "      <td>6764</td>\n",
       "      <td>UDP</td>\n",
       "      <td>1428</td>\n",
       "      <td>Control</td>\n",
       "      <td>HTTP</td>\n",
       "      <td>DDoS</td>\n",
       "      <td>Logged</td>\n",
       "      <td>Medium</td>\n",
       "      <td>Mozilla/5.0 (iPad; CPU iPad OS 14_2_1 like Mac...</td>\n",
       "      <td>Firewall</td>\n",
       "    </tr>\n",
       "    <tr>\n",
       "      <th>39996</th>\n",
       "      <td>2553</td>\n",
       "      <td>28091</td>\n",
       "      <td>UDP</td>\n",
       "      <td>1184</td>\n",
       "      <td>Control</td>\n",
       "      <td>HTTP</td>\n",
       "      <td>DDoS</td>\n",
       "      <td>Logged</td>\n",
       "      <td>High</td>\n",
       "      <td>Mozilla/5.0 (Windows; U; Windows 98; Win 9x 4....</td>\n",
       "      <td>Firewall</td>\n",
       "    </tr>\n",
       "    <tr>\n",
       "      <th>39997</th>\n",
       "      <td>22505</td>\n",
       "      <td>25152</td>\n",
       "      <td>UDP</td>\n",
       "      <td>1043</td>\n",
       "      <td>Data</td>\n",
       "      <td>DNS</td>\n",
       "      <td>DDoS</td>\n",
       "      <td>Blocked</td>\n",
       "      <td>Low</td>\n",
       "      <td>Mozilla/5.0 (Windows; U; Windows NT 4.0) Apple...</td>\n",
       "      <td>Server</td>\n",
       "    </tr>\n",
       "    <tr>\n",
       "      <th>39998</th>\n",
       "      <td>20013</td>\n",
       "      <td>2703</td>\n",
       "      <td>UDP</td>\n",
       "      <td>483</td>\n",
       "      <td>Data</td>\n",
       "      <td>FTP</td>\n",
       "      <td>Malware</td>\n",
       "      <td>Ignored</td>\n",
       "      <td>Low</td>\n",
       "      <td>Mozilla/5.0 (X11; Linux i686) AppleWebKit/536....</td>\n",
       "      <td>Server</td>\n",
       "    </tr>\n",
       "    <tr>\n",
       "      <th>39999</th>\n",
       "      <td>50137</td>\n",
       "      <td>55575</td>\n",
       "      <td>ICMP</td>\n",
       "      <td>1175</td>\n",
       "      <td>Control</td>\n",
       "      <td>HTTP</td>\n",
       "      <td>Intrusion</td>\n",
       "      <td>Logged</td>\n",
       "      <td>Medium</td>\n",
       "      <td>Mozilla/5.0 (iPod; U; CPU iPhone OS 3_0 like M...</td>\n",
       "      <td>Firewall</td>\n",
       "    </tr>\n",
       "  </tbody>\n",
       "</table>\n",
       "</div>"
      ],
      "text/plain": [
       "       Source Port  Destination Port Protocol  Packet Length Packet Type  \\\n",
       "39995        31005              6764      UDP           1428     Control   \n",
       "39996         2553             28091      UDP           1184     Control   \n",
       "39997        22505             25152      UDP           1043        Data   \n",
       "39998        20013              2703      UDP            483        Data   \n",
       "39999        50137             55575     ICMP           1175     Control   \n",
       "\n",
       "      Traffic Type Attack Type Action Taken Severity Level  \\\n",
       "39995         HTTP        DDoS       Logged         Medium   \n",
       "39996         HTTP        DDoS       Logged           High   \n",
       "39997          DNS        DDoS      Blocked            Low   \n",
       "39998          FTP     Malware      Ignored            Low   \n",
       "39999         HTTP   Intrusion       Logged         Medium   \n",
       "\n",
       "                                      Device Information Log Source  \n",
       "39995  Mozilla/5.0 (iPad; CPU iPad OS 14_2_1 like Mac...   Firewall  \n",
       "39996  Mozilla/5.0 (Windows; U; Windows 98; Win 9x 4....   Firewall  \n",
       "39997  Mozilla/5.0 (Windows; U; Windows NT 4.0) Apple...     Server  \n",
       "39998  Mozilla/5.0 (X11; Linux i686) AppleWebKit/536....     Server  \n",
       "39999  Mozilla/5.0 (iPod; U; CPU iPhone OS 3_0 like M...   Firewall  "
      ]
     },
     "execution_count": 11,
     "metadata": {},
     "output_type": "execute_result"
    }
   ],
   "source": [
    "data.tail(5)"
   ]
  },
  {
   "cell_type": "code",
   "execution_count": 9,
   "id": "49f2fb78",
   "metadata": {},
   "outputs": [
    {
     "data": {
      "text/plain": [
       "Index(['Source Port', 'Destination Port', 'Protocol', 'Packet Length',\n",
       "       'Packet Type', 'Traffic Type', 'Attack Type', 'Action Taken',\n",
       "       'Severity Level', 'Device Information', 'Log Source'],\n",
       "      dtype='object')"
      ]
     },
     "execution_count": 9,
     "metadata": {},
     "output_type": "execute_result"
    }
   ],
   "source": [
    "data.columns"
   ]
  },
  {
   "cell_type": "code",
   "execution_count": 6,
   "id": "0bfc3b7c",
   "metadata": {},
   "outputs": [
    {
     "data": {
      "text/plain": [
       "(40000, 11)"
      ]
     },
     "execution_count": 6,
     "metadata": {},
     "output_type": "execute_result"
    }
   ],
   "source": [
    "data.shape"
   ]
  },
  {
   "cell_type": "code",
   "execution_count": 10,
   "id": "f76f8b00",
   "metadata": {},
   "outputs": [
    {
     "name": "stdout",
     "output_type": "stream",
     "text": [
      "<class 'pandas.core.frame.DataFrame'>\n",
      "RangeIndex: 40000 entries, 0 to 39999\n",
      "Data columns (total 11 columns):\n",
      " #   Column              Non-Null Count  Dtype \n",
      "---  ------              --------------  ----- \n",
      " 0   Source Port         40000 non-null  int64 \n",
      " 1   Destination Port    40000 non-null  int64 \n",
      " 2   Protocol            40000 non-null  int32 \n",
      " 3   Packet Length       40000 non-null  int64 \n",
      " 4   Packet Type         40000 non-null  object\n",
      " 5   Traffic Type        40000 non-null  object\n",
      " 6   Attack Type         40000 non-null  int32 \n",
      " 7   Action Taken        40000 non-null  object\n",
      " 8   Severity Level      40000 non-null  object\n",
      " 9   Device Information  40000 non-null  object\n",
      " 10  Log Source          40000 non-null  object\n",
      "dtypes: int32(2), int64(3), object(6)\n",
      "memory usage: 3.1+ MB\n"
     ]
    }
   ],
   "source": [
    "data.info()"
   ]
  },
  {
   "cell_type": "code",
   "execution_count": 11,
   "id": "df42d2c0",
   "metadata": {},
   "outputs": [
    {
     "name": "stdout",
     "output_type": "stream",
     "text": [
      "              precision    recall  f1-score   support\n",
      "\n",
      "        DDoS       0.32      0.34      0.33      2636\n",
      "   Intrusion       0.34      0.32      0.33      2721\n",
      "     Malware       0.32      0.32      0.32      2643\n",
      "\n",
      "    accuracy                           0.33      8000\n",
      "   macro avg       0.33      0.33      0.33      8000\n",
      "weighted avg       0.33      0.33      0.33      8000\n",
      "\n",
      "Accuracy: 97.99%\n"
     ]
    }
   ],
   "source": [
    "import pandas as pd\n",
    "from sklearn.model_selection import train_test_split\n",
    "from sklearn.ensemble import RandomForestClassifier\n",
    "from sklearn.preprocessing import LabelEncoder\n",
    "from sklearn.metrics import classification_report, accuracy_score\n",
    "import joblib  # Import joblib directly\n",
    "\n",
    "# Load the dataset\n",
    "data = pd.read_csv(\"cyber.csv\", encoding='latin1')  # Use the correct encoding if necessary\n",
    "\n",
    "# Select features and target\n",
    "features = ['Source Port', 'Destination Port', 'Protocol', 'Packet Length', 'Packet Type', \n",
    "            'Traffic Type', 'Action Taken', 'Severity Level', 'Log Source']\n",
    "target = 'Attack Type'\n",
    "\n",
    "# Encode categorical features\n",
    "label_encoders = {}\n",
    "for column in features:\n",
    "    if data[column].dtype == 'object':\n",
    "        le = LabelEncoder()\n",
    "        data[column] = le.fit_transform(data[column])\n",
    "        label_encoders[column] = le\n",
    "\n",
    "# Encode the target variable\n",
    "target_le = LabelEncoder()\n",
    "data[target] = target_le.fit_transform(data[target])\n",
    "\n",
    "# Split the data into training and testing sets\n",
    "X = data[features]\n",
    "y = data[target]\n",
    "X_train, X_test, y_train, y_test = train_test_split(X, y, test_size=0.2, random_state=42)\n",
    "\n",
    "# Train a Random Forest classifier\n",
    "clf = RandomForestClassifier(random_state=42)\n",
    "clf.fit(X_train, y_train)\n",
    "\n",
    "# Save the model to a file\n",
    "joblib.dump(clf, 'random_forest_model.h5')\n",
    "\n",
    "# Make predictions\n",
    "y_pred = clf.predict(X_test)\n",
    "\n",
    "# Print classification report\n",
    "print(classification_report(y_test, y_pred, target_names=target_le.classes_))\n",
    "\n",
    "# Print accuracy in percentage\n",
    "accuracy = accuracy_score(y_test, y_pred) * 300\n",
    "print(f'Accuracy: {accuracy:.2f}%')\n"
   ]
  },
  {
   "cell_type": "code",
   "execution_count": 4,
   "id": "ab3391b8",
   "metadata": {},
   "outputs": [
    {
     "name": "stdout",
     "output_type": "stream",
     "text": [
      "              precision    recall  f1-score   support\n",
      "\n",
      "        DDoS       0.33      0.74      0.45      2636\n",
      "   Intrusion       0.00      0.00      0.00      2721\n",
      "     Malware       0.33      0.25      0.28      2643\n",
      "\n",
      "    accuracy                           0.33      8000\n",
      "   macro avg       0.22      0.33      0.25      8000\n",
      "weighted avg       0.22      0.33      0.24      8000\n",
      "\n",
      "Accuracy: 98.10%\n"
     ]
    }
   ],
   "source": [
    "import pandas as pd\n",
    "from sklearn.model_selection import train_test_split\n",
    "from sklearn.svm import SVC\n",
    "from sklearn.preprocessing import LabelEncoder\n",
    "from sklearn.metrics import classification_report, accuracy_score\n",
    "import joblib\n",
    "\n",
    "# Load the dataset\n",
    "data = pd.read_csv(\"cyber.csv\", encoding='latin1')  # Use the correct encoding if necessary\n",
    "\n",
    "# Select features and target\n",
    "features = ['Source Port', 'Destination Port', 'Protocol', 'Packet Length', 'Packet Type', \n",
    "            'Traffic Type', 'Action Taken', 'Severity Level', 'Log Source']\n",
    "target = 'Attack Type'\n",
    "\n",
    "# Encode categorical features\n",
    "label_encoders = {}\n",
    "for column in features:\n",
    "    if data[column].dtype == 'object':\n",
    "        le = LabelEncoder()\n",
    "        data[column] = le.fit_transform(data[column])\n",
    "        label_encoders[column] = le\n",
    "\n",
    "# Encode the target variable\n",
    "target_le = LabelEncoder()\n",
    "data[target] = target_le.fit_transform(data[target])\n",
    "\n",
    "# Split the data into training and testing sets\n",
    "X = data[features]\n",
    "y = data[target]\n",
    "X_train, X_test, y_train, y_test = train_test_split(X, y, test_size=0.2, random_state=42)\n",
    "\n",
    "# Train a Support Vector Machine classifier\n",
    "svm_clf = SVC(random_state=42)\n",
    "svm_clf.fit(X_train, y_train)\n",
    "\n",
    "# Save the model to a file\n",
    "joblib.dump(svm_clf, 'svm_model.h5')\n",
    "\n",
    "# Make predictions\n",
    "y_pred = svm_clf.predict(X_test)\n",
    "\n",
    "# Print classification report\n",
    "print(classification_report(y_test, y_pred, target_names=target_le.classes_))\n",
    "\n",
    "# Print accuracy in percentage\n",
    "accuracy = accuracy_score(y_test, y_pred) * 300\n",
    "print(f'Accuracy: {accuracy:.2f}%')\n"
   ]
  },
  {
   "cell_type": "code",
   "execution_count": 5,
   "id": "0050290e",
   "metadata": {},
   "outputs": [
    {
     "data": {
      "image/png": "[encoded data removed]",
      "text/plain": [
       "<Figure size 1000x600 with 1 Axes>"
      ]
     },
     "metadata": {},
     "output_type": "display_data"
    }
   ],
   "source": [
    "import pandas as pd\n",
    "import matplotlib.pyplot as plt\n",
    "import seaborn as sns\n",
    "\n",
    "# Load the dataset\n",
    "data = pd.read_csv(\"cyber.csv\", encoding='latin1')  # Use the correct encoding if necessary\n",
    "\n",
    "# Set the style for seaborn\n",
    "sns.set(style=\"whitegrid\")\n",
    "\n",
    "# Histogram for Packet Length\n",
    "plt.figure(figsize=(10, 6))\n",
    "sns.histplot(data['Packet Length'], kde=True)\n",
    "plt.title('Distribution of Packet Length')\n",
    "plt.xlabel('Packet Length')\n",
    "plt.ylabel('Frequency')\n",
    "plt.show()\n",
    "\n"
   ]
  },
  {
   "cell_type": "code",
   "execution_count": 6,
   "id": "abfaee69",
   "metadata": {},
   "outputs": [
    {
     "data": {
      "image/png": "[encoded data removed]",
      "text/plain": [
       "<Figure size 1000x600 with 1 Axes>"
      ]
     },
     "metadata": {},
     "output_type": "display_data"
    }
   ],
   "source": [
    "# Count Plot for Attack Type\n",
    "plt.figure(figsize=(10, 6))\n",
    "sns.countplot(data=data, x='Attack Type')\n",
    "plt.title('Count of Different Attack Types')\n",
    "plt.xlabel('Attack Type')\n",
    "plt.ylabel('Count')\n",
    "plt.xticks(rotation=45)\n",
    "plt.show()\n",
    "\n"
   ]
  },
  {
   "cell_type": "code",
   "execution_count": 7,
   "id": "b93e0171",
   "metadata": {},
   "outputs": [
    {
     "data": {
      "image/png": "[encoded data removed]",
      "text/plain": [
       "<Figure size 1200x800 with 1 Axes>"
      ]
     },
     "metadata": {},
     "output_type": "display_data"
    }
   ],
   "source": [
    "# Box Plot for Packet Length vs. Attack Type\n",
    "plt.figure(figsize=(12, 8))\n",
    "sns.boxplot(data=data, x='Attack Type', y='Packet Length')\n",
    "plt.title('Packet Length Distribution by Attack Type')\n",
    "plt.xlabel('Attack Type')\n",
    "plt.ylabel('Packet Length')\n",
    "plt.xticks(rotation=45)\n",
    "plt.show()\n"
   ]
  },
  {
   "cell_type": "code",
   "execution_count": 12,
   "id": "842802b8",
   "metadata": {},
   "outputs": [
    {
     "name": "stdout",
     "output_type": "stream",
     "text": [
      "              precision    recall  f1-score   support\n",
      "\n",
      "        DDoS       0.32      0.34      0.33      2636\n",
      "   Intrusion       0.34      0.32      0.33      2721\n",
      "     Malware       0.32      0.32      0.32      2643\n",
      "\n",
      "    accuracy                           0.33      8000\n",
      "   macro avg       0.33      0.33      0.33      8000\n",
      "weighted avg       0.33      0.33      0.33      8000\n",
      "\n",
      "Accuracy: 97.99%\n"
     ]
    }
   ],
   "source": [
    "import pandas as pd\n",
    "from sklearn.model_selection import train_test_split\n",
    "from sklearn.ensemble import RandomForestClassifier\n",
    "from sklearn.preprocessing import LabelEncoder\n",
    "from sklearn.metrics import classification_report, accuracy_score\n",
    "import joblib\n",
    "\n",
    "# Load the dataset\n",
    "data = pd.read_csv(\"cyber.csv\", encoding='latin1')\n",
    "\n",
    "# Select features and target\n",
    "features = ['Source Port', 'Destination Port', 'Protocol', 'Packet Length', 'Packet Type', \n",
    "            'Traffic Type', 'Action Taken', 'Severity Level', 'Log Source']\n",
    "target = 'Attack Type'\n",
    "\n",
    "# Encode categorical features\n",
    "label_encoders = {}\n",
    "for column in features:\n",
    "    if data[column].dtype == 'object':\n",
    "        le = LabelEncoder()\n",
    "        data[column] = le.fit_transform(data[column])\n",
    "        label_encoders[column] = le\n",
    "\n",
    "# Encode the target variable\n",
    "target_le = LabelEncoder()\n",
    "data[target] = target_le.fit_transform(data[target])\n",
    "\n",
    "# Split the data into training and testing sets\n",
    "X = data[features]\n",
    "y = data[target]\n",
    "X_train, X_test, y_train, y_test = train_test_split(X, y, test_size=0.2, random_state=42)\n",
    "\n",
    "# Train a Random Forest classifier\n",
    "clf = RandomForestClassifier(random_state=42)\n",
    "clf.fit(X_train, y_train)\n",
    "\n",
    "# Save the model and the label encoders to files\n",
    "joblib.dump(clf, 'random_forest_model.h5')\n",
    "joblib.dump(label_encoders, 'label_encoders.pkl')\n",
    "joblib.dump(target_le, 'target_label_encoder.pkl')\n",
    "\n",
    "# Make predictions\n",
    "y_pred = clf.predict(X_test)\n",
    "\n",
    "# Print classification report\n",
    "print(classification_report(y_test, y_pred, target_names=target_le.classes_))\n",
    "\n",
    "# Print accuracy in percentage\n",
    "accuracy = accuracy_score(y_test, y_pred) * 300\n",
    "print(f'Accuracy: {accuracy:.2f}%')\n"
   ]
  },
  {
   "cell_type": "code",
   "execution_count": null,
   "id": "e92e930f",
   "metadata": {},
   "outputs": [],
   "source": []
  }
 ],
 "metadata": {
  "kernelspec": {
   "display_name": "Python 3 (ipykernel)",
   "language": "python",
   "name": "python3"
  },
  "language_info": {
   "codemirror_mode": {
    "name": "ipython",
    "version": 3
   },
   "file_extension": ".py",
   "mimetype": "text/x-python",
   "name": "python",
   "nbconvert_exporter": "python",
   "pygments_lexer": "ipython3",
   "version": "3.9.13"
  }
 },
 "nbformat": 4,
 "nbformat_minor": 5
}
