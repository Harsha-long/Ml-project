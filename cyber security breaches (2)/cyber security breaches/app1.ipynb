{
 "cells": [
  {
   "cell_type": "code",
   "execution_count": 5,
   "id": "d13d4f90",
   "metadata": {},
   "outputs": [],
   "source": [
    "import streamlit as st\n",
    "import joblib\n",
    "from sklearn.preprocessing import LabelEncoder\n",
    "\n",
    "# Load the trained model and label encoders\n",
    "model = joblib.load('random_forest_model.h5')\n",
    "label_encoders = joblib.load('label_encoders.pkl')\n",
    "target_le = joblib.load('target_label_encoder.pkl')\n",
    "\n",
    "# Define the feature names\n",
    "features = ['Source Port', 'Destination Port', 'Protocol', 'Packet Length', \n",
    "            'Packet Type', 'Traffic Type', 'Action Taken', 'Severity Level', 'Log Source']\n",
    "\n",
    "# Function to encode user inputs using the label encoders\n",
    "def encode_input(input_data):\n",
    "    encoded_data = []\n",
    "    for i, feature in enumerate(features):\n",
    "        if feature in label_encoders:\n",
    "            encoded_data.append(label_encoders[feature].transform([input_data[i]])[0])\n",
    "        else:\n",
    "            encoded_data.append(input_data[i])\n",
    "    return encoded_data\n",
    "\n",
    "# Streamlit app\n",
    "st.title(\"Cyber Attack Prediction\")\n",
    "\n",
    "# Create input fields for each feature\n",
    "input_data = []\n",
    "for feature in features:\n",
    "    input_value = st.text_input(f\"Enter {feature}:\")\n",
    "    input_data.append(input_value)\n",
    "\n",
    "# Predict button\n",
    "if st.button(\"Predict\"):\n",
    "    if all(input_data):\n",
    "        # Encode the inputs\n",
    "        encoded_input = encode_input(input_data)\n",
    "        \n",
    "        # Make a prediction\n",
    "        prediction = model.predict([encoded_input])[0]\n",
    "        \n",
    "        # Decode the prediction\n",
    "        attack_type = target_le.inverse_transform([prediction])[0]\n",
    "        \n",
    "        # Display the prediction\n",
    "        st.write(f\"Predicted Attack Type: {attack_type}\")\n",
    "    else:\n",
    "        st.write(\"Please enter values for all features.\")\n"
   ]
  },
  {
   "cell_type": "code",
   "execution_count": null,
   "id": "330832c2",
   "metadata": {},
   "outputs": [],
   "source": []
  }
 ],
 "metadata": {
  "kernelspec": {
   "display_name": "Python 3 (ipykernel)",
   "language": "python",
   "name": "python3"
  },
  "language_info": {
   "codemirror_mode": {
    "name": "ipython",
    "version": 3
   },
   "file_extension": ".py",
   "mimetype": "text/x-python",
   "name": "python",
   "nbconvert_exporter": "python",
   "pygments_lexer": "ipython3",
   "version": "3.9.13"
  }
 },
 "nbformat": 4,
 "nbformat_minor": 5
}
